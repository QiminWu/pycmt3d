{
 "metadata": {
  "name": "",
  "signature": "sha256:398ff792ff8da6bc9661a302e084d2f091a31ff73a3a9186b96a1ae65066ddc9"
 },
 "nbformat": 3,
 "nbformat_minor": 0,
 "worksheets": [
  {
   "cells": [
    {
     "cell_type": "code",
     "collapsed": false,
     "input": [
      "from cmt3d import Cmt3D\n",
      "from source import CMTSource\n",
      "from config import Config\n",
      "\n",
      "cmtfile = \"../../testdata/CMT/010104K\"\n",
      "cmtsource = CMTSource.from_CMTSOLUTION_file(cmtfile)\n",
      "print cmtsource.depth_in_m\n",
      "\n",
      "flexwinfile = \"../../testdata/cmt_input/010104K_27_60\"\n",
      "config = Config(9, dlocation=0.03, dmoment=2.0e23, ddepth=3.0)\n",
      "testcmt = Cmt3D(cmtsource, flexwinfile, config)\n",
      "\n",
      "testcmt.load_winfile()\n",
      "testcmt.setup_weight()\n",
      "testcmt.setup_matrix()\n",
      "#print testcmt.A\n",
      "#print testcmt.b\n",
      "testcmt.invert_cmt(testcmt.A, testcmt.b)"
     ],
     "language": "python",
     "metadata": {},
     "outputs": [
      {
       "output_type": "stream",
       "stream": "stderr",
       "text": [
        "pycmt3d - INFO: None weighting function specified..assign to default\n"
       ]
      },
      {
       "output_type": "stream",
       "stream": "stderr",
       "text": [
        "pycmt3d - INFO: Import window file\n"
       ]
      },
      {
       "output_type": "stream",
       "stream": "stderr",
       "text": [
        "pycmt3d - DEBUG: Import data...ABKT.II.00.BHZ.sac\n"
       ]
      },
      {
       "output_type": "stream",
       "stream": "stderr",
       "text": [
        "pycmt3d - INFO: Start weighting...\n"
       ]
      },
      {
       "output_type": "stream",
       "stream": "stderr",
       "text": [
        "pycmt3d - DEBUG: Azimuth bin: [1.0, 0.0, 0.0, 0.0, 0.0, 0.0, 0.0, 0.0, 0.0, 0.0]\n"
       ]
      },
      {
       "output_type": "stream",
       "stream": "stderr",
       "text": [
        "pycmt3d - INFO: ABKT.II.BHZ, num_win, dist, naz: 2, 13513.362525, 1\n"
       ]
      },
      {
       "output_type": "stream",
       "stream": "stderr",
       "text": [
        "pycmt3d - DEBUG: Global Max Weight: 59.451639\n"
       ]
      },
      {
       "output_type": "stream",
       "stream": "stderr",
       "text": [
        "pycmt3d - DEBUG: II.ABKT, weight: [59.4516387097, 22.2849233342]\n"
       ]
      },
      {
       "output_type": "stream",
       "stream": "stderr",
       "text": [
        "pycmt3d - DEBUG: Updated, weight: [1.0, 0.374841195599]\n"
       ]
      },
      {
       "output_type": "stream",
       "stream": "stderr",
       "text": [
        "pycmt3d - INFO: Inversion Matrix A is as follows:\n"
       ]
      },
      {
       "output_type": "stream",
       "stream": "stderr",
       "text": [
        "pycmt3d - INFO: \n",
        "[  2.89114171e-19  -1.93167452e-20   2.84254974e-21   3.92849595e-19\n",
        "  -1.35482369e-19   5.01391823e-21   1.10450315e-17   2.10610490e-19\n",
        "   4.04822029e-18]\n",
        "[ -1.93167452e-20   9.12283158e-21   5.59645943e-22  -9.97303539e-21\n",
        "   3.20230257e-21  -5.23819236e-21   1.08220140e-18  -2.64738711e-19\n",
        "  -9.82230180e-19]\n",
        "[  2.84254974e-21   5.59645943e-22   1.07812908e-22   5.52440901e-21\n",
        "  -1.92354319e-21  -4.41170489e-22   2.75983968e-19  -2.30452768e-20\n",
        "  -3.17649124e-20]\n",
        "[  3.92849595e-19  -9.97303539e-21   5.52440901e-21   6.47509557e-19\n",
        "  -2.24463095e-19  -3.35015829e-21   2.63561760e-17  -1.35075558e-18\n",
        "   9.83977164e-19]\n",
        "[ -1.35482369e-19   3.20230257e-21  -1.92354319e-21  -2.24463095e-19\n",
        "   7.78714332e-20   1.31135497e-21  -9.19190522e-18   4.83958533e-19\n",
        "  -2.89453283e-19]\n",
        "[  5.01391823e-21  -5.23819236e-21  -4.41170489e-22  -3.35015829e-21\n",
        "   1.31135497e-21   3.25587162e-21  -8.65138898e-19   1.60528146e-19\n",
        "   5.16390714e-19]\n",
        "[  1.10450315e-17   1.08220140e-18   2.75983968e-19   2.63561760e-17\n",
        "  -9.19190522e-18  -8.65138898e-19   1.72339738e-15  -1.69723071e-16\n",
        "  -3.37738361e-16]\n",
        "[  2.10610490e-19  -2.64738711e-19  -2.30452768e-20  -1.35075558e-18\n",
        "   4.83958533e-19   1.60528146e-19  -1.69723071e-16   2.64632934e-17\n",
        "   7.62702488e-17]\n",
        "[  4.04822029e-18  -9.82230180e-19  -3.17649124e-20   9.83977164e-19\n",
        "  -2.89453283e-19   5.16390714e-19  -3.37738361e-16   7.62702488e-17\n",
        "   2.61638043e-16]\n"
       ]
      },
      {
       "output_type": "stream",
       "stream": "stderr",
       "text": [
        "pycmt3d - INFO: RHS vector b is as follows:\n"
       ]
      },
      {
       "output_type": "stream",
       "stream": "stderr",
       "text": [
        "pycmt3d - INFO: [-3.11513013795e-16, 4.58022420463e-18, -4.62050507539e-18, -5.04154443966e-16, 1.74683259368e-16, 4.40864716838e-18, -2.05074726371e-14, 9.43127434196e-16, -1.15694894855e-15]\n"
       ]
      },
      {
       "output_type": "stream",
       "stream": "stderr",
       "text": [
        "pycmt3d - INFO: Linear Inversion\n"
       ]
      },
      {
       "output_type": "stream",
       "stream": "stderr",
       "text": [
        "pycmt3d - DEBUG: cmt_par: [6.32e+24, -5.2e+24, -1.12e+24, 1.16e+25, -5.86e+24, 3.03e+24, 15.0, -101.4, 17.45]\n"
       ]
      },
      {
       "output_type": "stream",
       "stream": "stderr",
       "text": [
        "pycmt3d - DEBUG: Scaled old_par: [632.0, -520.0, -112.0, 1160.0, -586.0, 303.0, 15.0, -10140.0, 1745.0]\n"
       ]
      },
      {
       "output_type": "stream",
       "stream": "stderr",
       "text": [
        "pycmt3d - DEBUG: dm: [711.236251221, -1092.2229692, 380.986717975, -1140.35131329, -2343.37112267, 102.232668263, -1.39728747028, 322.137087552, -113.696403464, -0.133855925691]\n"
       ]
      },
      {
       "output_type": "stream",
       "stream": "stderr",
       "text": [
        "pycmt3d - DEBUG: New CMT par: [1.34323625122e+25. -1.6122229692e+25. 2.68986717975e+24. 1.96486867088e+23. -2.92937112267e+25. 4.05232668263e+24. 13.6027125297. -98.1786291245. 16.3130359654. 3.2. 2.4]\n"
       ]
      },
      {
       "output_type": "stream",
       "stream": "stderr",
       "text": [
        "pycmt3d - DEBUG: Trace: -1.610613e+09\n"
       ]
      },
      {
       "output_type": "stream",
       "stream": "stdout",
       "text": [
        "15000.0\n",
        "[[  2.89114171e-19  -1.93167452e-20   2.84254974e-21   3.92849595e-19\n",
        "   -1.35482369e-19   5.01391823e-21   1.10450315e-17   2.10610490e-19\n",
        "    4.04822029e-18]\n",
        " [ -1.93167452e-20   9.12283158e-21   5.59645943e-22  -9.97303539e-21\n",
        "    3.20230257e-21  -5.23819236e-21   1.08220140e-18  -2.64738711e-19\n",
        "   -9.82230180e-19]\n",
        " [  2.84254974e-21   5.59645943e-22   1.07812908e-22   5.52440901e-21\n",
        "   -1.92354319e-21  -4.41170489e-22   2.75983968e-19  -2.30452768e-20\n",
        "   -3.17649124e-20]\n",
        " [  3.92849595e-19  -9.97303539e-21   5.52440901e-21   6.47509557e-19\n",
        "   -2.24463095e-19  -3.35015829e-21   2.63561760e-17  -1.35075558e-18\n",
        "    9.83977164e-19]\n",
        " [ -1.35482369e-19   3.20230257e-21  -1.92354319e-21  -2.24463095e-19\n",
        "    7.78714332e-20   1.31135497e-21  -9.19190522e-18   4.83958533e-19\n",
        "   -2.89453283e-19]\n",
        " [  5.01391823e-21  -5.23819236e-21  -4.41170489e-22  -3.35015829e-21\n",
        "    1.31135497e-21   3.25587162e-21  -8.65138898e-19   1.60528146e-19\n",
        "    5.16390714e-19]\n",
        " [  1.10450315e-17   1.08220140e-18   2.75983968e-19   2.63561760e-17\n",
        "   -9.19190522e-18  -8.65138898e-19   1.72339738e-15  -1.69723071e-16\n",
        "   -3.37738361e-16]\n",
        " [  2.10610490e-19  -2.64738711e-19  -2.30452768e-20  -1.35075558e-18\n",
        "    4.83958533e-19   1.60528146e-19  -1.69723071e-16   2.64632934e-17\n",
        "    7.62702488e-17]\n",
        " [  4.04822029e-18  -9.82230180e-19  -3.17649124e-20   9.83977164e-19\n",
        "   -2.89453283e-19   5.16390714e-19  -3.37738361e-16   7.62702488e-17\n",
        "    2.61638043e-16]]\n",
        "[ -3.11513014e-16   4.58022420e-18  -4.62050508e-18  -5.04154444e-16\n",
        "   1.74683259e-16   4.40864717e-18  -2.05074726e-14   9.43127434e-16\n",
        "  -1.15694895e-15]\n",
        "[  1.10450315e-17   1.08220140e-18   2.75983968e-19   2.63561760e-17\n",
        "   9.19190522e-18   8.65138898e-19   1.72339738e-15   1.69723071e-16\n",
        "   3.37738361e-16]\n",
        "[[  2.61759480e-02  -1.74890811e-03   2.57360039e-04   3.55679922e-02\n",
        "   -1.22663633e-02   4.53952370e-04   1.00000000e+00   1.90683467e-02\n",
        "    3.66519579e-01]\n",
        " [ -1.78494920e-02   8.42988336e-03   5.17136591e-04  -9.21550775e-03\n",
        "    2.95906341e-03  -4.84031194e-03   1.00000000e+00  -2.44629799e-01\n",
        "   -9.07622352e-01]\n",
        " [  1.02996916e-02   2.02782048e-03   3.90649170e-04   2.00171374e-02\n",
        "   -6.96976424e-03  -1.59853666e-03   1.00000000e+00  -8.35022303e-02\n",
        "   -1.15096948e-01]\n",
        " [  1.49054094e-02  -3.78394627e-04   2.09605862e-04   2.45676594e-02\n",
        "   -8.51652738e-03  -1.27110939e-04   1.00000000e+00  -5.12500591e-02\n",
        "    3.73338364e-02]\n",
        " [ -1.47393131e-02   3.48382897e-04  -2.09264907e-04  -2.44196486e-02\n",
        "    8.47174022e-03   1.42664109e-04  -1.00000000e+00   5.26505139e-02\n",
        "   -3.14900204e-02]\n",
        " [  5.79550665e-03  -6.05474147e-03  -5.09941802e-04  -3.87239356e-03\n",
        "    1.51577391e-03   3.76340912e-03  -1.00000000e+00   1.85551877e-01\n",
        "    5.96887639e-01]\n",
        " [  6.40887103e-03   6.27946529e-04   1.60139485e-04   1.52931509e-02\n",
        "   -5.33359593e-03  -5.01996179e-04   1.00000000e+00  -9.84816811e-02\n",
        "   -1.95972424e-01]\n",
        " [  1.24090667e-03  -1.55982749e-03  -1.35781640e-04  -7.95858556e-03\n",
        "    2.85145992e-03   9.45823958e-04  -1.00000000e+00   1.55920425e-01\n",
        "    4.49380562e-01]\n",
        " [  1.19862614e-02  -2.90825767e-03  -9.40518343e-05   2.91343027e-03\n",
        "   -8.57034072e-04   1.52896672e-03  -1.00000000e+00   2.25826432e-01\n",
        "    7.74676713e-01]]\n",
        "[-28.2039045    4.23232146 -16.74193293 -19.12851254  19.00403183\n",
        "   5.09588366 -11.89944521   5.55686054  -3.42557756]\n",
        "Original bb: [-28.2039045    4.23232146 -16.74193293 -19.12851254  19.00403183\n",
        "   5.09588366 -11.89944521   5.55686054  -3.42557756  -0.        ]\n",
        "check: [ -7.10542736e-15  -2.66453526e-15   3.55271368e-15   7.10542736e-15\n",
        "   0.00000000e+00  -1.42108547e-14  -1.06581410e-14   7.99360578e-15\n",
        "   1.24344979e-14  -5.68434189e-14]\n"
       ]
      },
      {
       "metadata": {},
       "output_type": "pyout",
       "prompt_number": 1,
       "text": [
        "array([  1.34323625e+25,  -1.61222297e+25,   2.68986718e+24,\n",
        "         1.96486867e+23,  -2.92937112e+25,   4.05232668e+24,\n",
        "         1.36027125e+01,  -9.81786291e+01,   1.63130360e+01,\n",
        "         3.20000000e+00,   2.40000000e+00])"
       ]
      }
     ],
     "prompt_number": 1
    },
    {
     "cell_type": "code",
     "collapsed": false,
     "input": [
      "testcmt.window[0].win_time"
     ],
     "language": "python",
     "metadata": {},
     "outputs": [
      {
       "ename": "NameError",
       "evalue": "name 'testcmt' is not defined",
       "output_type": "pyerr",
       "traceback": [
        "\u001b[1;31m---------------------------------------------------------------------------\u001b[0m\n\u001b[1;31mNameError\u001b[0m                                 Traceback (most recent call last)",
        "\u001b[1;32m<ipython-input-1-12cbb87b49df>\u001b[0m in \u001b[0;36m<module>\u001b[1;34m()\u001b[0m\n\u001b[1;32m----> 1\u001b[1;33m \u001b[0mtestcmt\u001b[0m\u001b[1;33m.\u001b[0m\u001b[0mwindow\u001b[0m\u001b[1;33m[\u001b[0m\u001b[1;36m0\u001b[0m\u001b[1;33m]\u001b[0m\u001b[1;33m.\u001b[0m\u001b[0mwin_time\u001b[0m\u001b[1;33m\u001b[0m\u001b[0m\n\u001b[0m",
        "\u001b[1;31mNameError\u001b[0m: name 'testcmt' is not defined"
       ]
      }
     ],
     "prompt_number": 1
    },
    {
     "cell_type": "code",
     "collapsed": false,
     "input": [
      "print testcmt.window[0].datalist"
     ],
     "language": "python",
     "metadata": {},
     "outputs": [
      {
       "output_type": "stream",
       "stream": "stdout",
       "text": [
        "{'Mrt': <obspy.core.trace.Trace object at 0x7f679bc9a790>, 'Mtp': <obspy.core.trace.Trace object at 0x7f679bc40210>, 'Mrp': <obspy.core.trace.Trace object at 0x7f679bc400d0>, 'Mtt': <obspy.core.trace.Trace object at 0x7f679bc9a7d0>, 'Mrr': <obspy.core.trace.Trace object at 0x7f679bc9ab90>, 'Mpp': <obspy.core.trace.Trace object at 0x7f679bc9a850>, 'obsd': <obspy.core.trace.Trace object at 0x7f679bc9a8d0>, 'synt': <obspy.core.trace.Trace object at 0x7f679bc9a890>}\n"
       ]
      }
     ],
     "prompt_number": 6
    },
    {
     "cell_type": "code",
     "collapsed": false,
     "input": [],
     "language": "python",
     "metadata": {},
     "outputs": [
      {
       "ename": "TypeError",
       "evalue": "unsupported operand type(s) for /: 'NoneType' and 'float'",
       "output_type": "pyerr",
       "traceback": [
        "\u001b[1;31m---------------------------------------------------------------------------\u001b[0m\n\u001b[1;31mTypeError\u001b[0m                                 Traceback (most recent call last)",
        "\u001b[1;32m<ipython-input-7-cfc0ee7248be>\u001b[0m in \u001b[0;36m<module>\u001b[1;34m()\u001b[0m\n\u001b[1;32m----> 1\u001b[1;33m \u001b[0mtestcmt\u001b[0m\u001b[1;33m.\u001b[0m\u001b[0msetup_weight\u001b[0m\u001b[1;33m(\u001b[0m\u001b[1;33m)\u001b[0m\u001b[1;33m\u001b[0m\u001b[0m\n\u001b[0m",
        "\u001b[1;32m/u/lei/Research/pycmt3d/src/pycmt3d/cmt3d.py\u001b[0m in \u001b[0;36msetup_weight\u001b[1;34m(self)\u001b[0m\n\u001b[0;32m     98\u001b[0m             \u001b[1;31m# first calculate azimuth and distance for each data pair\u001b[0m\u001b[1;33m\u001b[0m\u001b[1;33m\u001b[0m\u001b[0m\n\u001b[0;32m     99\u001b[0m             \u001b[0mself\u001b[0m\u001b[1;33m.\u001b[0m\u001b[0mprepare_for_weighting\u001b[0m\u001b[1;33m(\u001b[0m\u001b[1;33m)\u001b[0m\u001b[1;33m\u001b[0m\u001b[0m\n\u001b[1;32m--> 100\u001b[1;33m             \u001b[1;31m# then calculate azimuth weighting\u001b[0m\u001b[1;33m\u001b[0m\u001b[1;33m\u001b[0m\u001b[0m\n\u001b[0m\u001b[0;32m    101\u001b[0m             \u001b[0mnaz_list\u001b[0m \u001b[1;33m=\u001b[0m \u001b[0mself\u001b[0m\u001b[1;33m.\u001b[0m\u001b[0mcalculate_azimuth_bin\u001b[0m\u001b[1;33m(\u001b[0m\u001b[1;33m)\u001b[0m\u001b[1;33m\u001b[0m\u001b[0m\n\u001b[0;32m    102\u001b[0m             \u001b[1;32mfor\u001b[0m \u001b[0midx\u001b[0m\u001b[1;33m,\u001b[0m \u001b[0mwindow\u001b[0m \u001b[1;32min\u001b[0m \u001b[0menumerate\u001b[0m\u001b[1;33m(\u001b[0m\u001b[0mself\u001b[0m\u001b[1;33m.\u001b[0m\u001b[0mwindow\u001b[0m\u001b[1;33m)\u001b[0m\u001b[1;33m:\u001b[0m\u001b[1;33m\u001b[0m\u001b[0m\n",
        "\u001b[1;32m/u/lei/Research/pycmt3d/src/pycmt3d/cmt3d.py\u001b[0m in \u001b[0;36mcalculate_azimuth_bin\u001b[1;34m(self)\u001b[0m\n\u001b[0;32m    141\u001b[0m     \u001b[1;32mdef\u001b[0m \u001b[0mcalculate_azimuth_bin\u001b[0m\u001b[1;33m(\u001b[0m\u001b[0mself\u001b[0m\u001b[1;33m)\u001b[0m\u001b[1;33m:\u001b[0m\u001b[1;33m\u001b[0m\u001b[0m\n\u001b[0;32m    142\u001b[0m         \u001b[0mnaz_list\u001b[0m \u001b[1;33m=\u001b[0m \u001b[0mnp\u001b[0m\u001b[1;33m.\u001b[0m\u001b[0mzeros\u001b[0m\u001b[1;33m(\u001b[0m\u001b[0mconst\u001b[0m\u001b[1;33m.\u001b[0m\u001b[0mNREGIONS\u001b[0m\u001b[1;33m)\u001b[0m\u001b[1;33m\u001b[0m\u001b[0m\n\u001b[1;32m--> 143\u001b[1;33m         \u001b[1;32mfor\u001b[0m \u001b[0mwindow\u001b[0m \u001b[1;32min\u001b[0m \u001b[0mself\u001b[0m\u001b[1;33m.\u001b[0m\u001b[0mwindow\u001b[0m\u001b[1;33m:\u001b[0m\u001b[1;33m\u001b[0m\u001b[0m\n\u001b[0m\u001b[0;32m    144\u001b[0m             \u001b[0mbin_idx\u001b[0m \u001b[1;33m=\u001b[0m \u001b[0mself\u001b[0m\u001b[1;33m.\u001b[0m\u001b[0mget_azimuth_bin_number\u001b[0m\u001b[1;33m(\u001b[0m\u001b[0mwindow\u001b[0m\u001b[1;33m.\u001b[0m\u001b[0mazimuth\u001b[0m\u001b[1;33m)\u001b[0m\u001b[1;33m\u001b[0m\u001b[0m\n\u001b[0;32m    145\u001b[0m             \u001b[0mnaz_list\u001b[0m\u001b[1;33m[\u001b[0m\u001b[0mbin_idx\u001b[0m\u001b[1;33m]\u001b[0m \u001b[1;33m+=\u001b[0m \u001b[0mwindow\u001b[0m\u001b[1;33m.\u001b[0m\u001b[0mnum_wins\u001b[0m\u001b[1;33m\u001b[0m\u001b[0m\n",
        "\u001b[1;32m/u/lei/Research/pycmt3d/src/pycmt3d/cmt3d.py\u001b[0m in \u001b[0;36mget_azimuth_bin_number\u001b[1;34m(azimuth)\u001b[0m\n\u001b[0;32m    130\u001b[0m         \u001b[1;31m# the azimth ranges from [0,360]\u001b[0m\u001b[1;33m\u001b[0m\u001b[1;33m\u001b[0m\u001b[0m\n\u001b[0;32m    131\u001b[0m         \u001b[1;31m# so a little modification here\u001b[0m\u001b[1;33m\u001b[0m\u001b[1;33m\u001b[0m\u001b[0m\n\u001b[1;32m--> 132\u001b[1;33m         \u001b[0mdaz\u001b[0m \u001b[1;33m=\u001b[0m \u001b[1;36m360.0\u001b[0m \u001b[1;33m/\u001b[0m \u001b[0mconst\u001b[0m\u001b[1;33m.\u001b[0m\u001b[0mNREGIONS\u001b[0m\u001b[1;33m\u001b[0m\u001b[0m\n\u001b[0m\u001b[0;32m    133\u001b[0m         \u001b[0mk\u001b[0m \u001b[1;33m=\u001b[0m \u001b[0mmath\u001b[0m\u001b[1;33m.\u001b[0m\u001b[0mfloor\u001b[0m\u001b[1;33m(\u001b[0m\u001b[0mazimuth\u001b[0m \u001b[1;33m/\u001b[0m \u001b[0mdaz\u001b[0m\u001b[1;33m)\u001b[0m\u001b[1;33m\u001b[0m\u001b[0m\n\u001b[0;32m    134\u001b[0m         \u001b[1;32mif\u001b[0m \u001b[1;33m(\u001b[0m \u001b[0mk\u001b[0m\u001b[1;33m<\u001b[0m\u001b[1;36m0\u001b[0m \u001b[1;32mor\u001b[0m \u001b[0mk\u001b[0m\u001b[1;33m>\u001b[0m\u001b[0mconst\u001b[0m\u001b[1;33m.\u001b[0m\u001b[0mNREGIONS\u001b[0m\u001b[1;33m)\u001b[0m\u001b[1;33m:\u001b[0m\u001b[1;33m\u001b[0m\u001b[0m\n",
        "\u001b[1;31mTypeError\u001b[0m: unsupported operand type(s) for /: 'NoneType' and 'float'"
       ]
      }
     ],
     "prompt_number": 7
    },
    {
     "cell_type": "code",
     "collapsed": false,
     "input": [
      "import numpy as np\n",
      "data = np.ones(7)\n",
      "data /= 7\n",
      "print data"
     ],
     "language": "python",
     "metadata": {},
     "outputs": [
      {
       "output_type": "stream",
       "stream": "stdout",
       "text": [
        "[ 0.14285714  0.14285714  0.14285714  0.14285714  0.14285714  0.14285714\n",
        "  0.14285714]\n"
       ]
      }
     ],
     "prompt_number": 4
    },
    {
     "cell_type": "code",
     "collapsed": false,
     "input": [
      "print data"
     ],
     "language": "python",
     "metadata": {},
     "outputs": [
      {
       "output_type": "stream",
       "stream": "stdout",
       "text": [
        "[ 1.  1.  1.  1.  1.  1.  1.]\n"
       ]
      }
     ],
     "prompt_number": 3
    },
    {
     "cell_type": "code",
     "collapsed": false,
     "input": [
      "import numpy as np\n",
      "b = 0\n",
      "A = np.zeros([3,3])\n",
      "def test_func(A, b):\n",
      "    A[1,1] = 1.0\n",
      "    b = 1\n",
      "print A\n",
      "print b\n",
      "test_func(A, b)\n",
      "print A\n",
      "print b\n",
      "AA=A\n",
      "AA[0,0]=1\n",
      "print AA\n",
      "print A"
     ],
     "language": "python",
     "metadata": {},
     "outputs": [
      {
       "output_type": "stream",
       "stream": "stdout",
       "text": [
        "[[ 0.  0.  0.]\n",
        " [ 0.  0.  0.]\n",
        " [ 0.  0.  0.]]\n",
        "0\n",
        "[[ 0.  0.  0.]\n",
        " [ 0.  1.  0.]\n",
        " [ 0.  0.  0.]]\n",
        "0\n",
        "[[ 1.  0.  0.]\n",
        " [ 0.  1.  0.]\n",
        " [ 0.  0.  0.]]\n",
        "[[ 1.  0.  0.]\n",
        " [ 0.  1.  0.]\n",
        " [ 0.  0.  0.]]\n"
       ]
      }
     ],
     "prompt_number": 3
    },
    {
     "cell_type": "code",
     "collapsed": false,
     "input": [
      "AA = np.zeros([2,2])"
     ],
     "language": "python",
     "metadata": {},
     "outputs": [],
     "prompt_number": 4
    },
    {
     "cell_type": "code",
     "collapsed": false,
     "input": [
      "AA[0:2,0:2] = A[0:2, 0:2]"
     ],
     "language": "python",
     "metadata": {},
     "outputs": [],
     "prompt_number": 5
    },
    {
     "cell_type": "code",
     "collapsed": false,
     "input": [
      "print AA"
     ],
     "language": "python",
     "metadata": {},
     "outputs": [
      {
       "output_type": "stream",
       "stream": "stdout",
       "text": [
        "[[ 1.  0.]\n",
        " [ 0.  1.]]\n"
       ]
      }
     ],
     "prompt_number": 6
    },
    {
     "cell_type": "code",
     "collapsed": false,
     "input": [
      "AA[0,0] = 2\n",
      "print AA\n",
      "print A"
     ],
     "language": "python",
     "metadata": {},
     "outputs": [
      {
       "output_type": "stream",
       "stream": "stdout",
       "text": [
        "[[ 2.  0.]\n",
        " [ 0.  1.]]\n",
        "[[ 1.  0.  0.]\n",
        " [ 0.  1.  0.]\n",
        " [ 0.  0.  0.]]\n"
       ]
      }
     ],
     "prompt_number": 7
    },
    {
     "cell_type": "code",
     "collapsed": false,
     "input": [
      "AA.flags['C_CONTIGUOUS']"
     ],
     "language": "python",
     "metadata": {},
     "outputs": [
      {
       "metadata": {},
       "output_type": "pyout",
       "prompt_number": 9,
       "text": [
        "True"
       ]
      }
     ],
     "prompt_number": 9
    },
    {
     "cell_type": "code",
     "collapsed": false,
     "input": [
      "import numpy as np\n",
      "aa = np.ones([5,5])\n",
      "print(\"[%s]\" %(', \\n'.join(map(str, aa))) )"
     ],
     "language": "python",
     "metadata": {},
     "outputs": [
      {
       "output_type": "stream",
       "stream": "stdout",
       "text": [
        "[[ 1.  1.  1.  1.  1.], \n",
        "[ 1.  1.  1.  1.  1.], \n",
        "[ 1.  1.  1.  1.  1.], \n",
        "[ 1.  1.  1.  1.  1.], \n",
        "[ 1.  1.  1.  1.  1.]]\n"
       ]
      }
     ],
     "prompt_number": 6
    },
    {
     "cell_type": "code",
     "collapsed": false,
     "input": [
      "print aa"
     ],
     "language": "python",
     "metadata": {},
     "outputs": [
      {
       "output_type": "stream",
       "stream": "stdout",
       "text": [
        "[[ 1.  1.  1.  1.  1.]\n",
        " [ 1.  1.  1.  1.  1.]\n",
        " [ 1.  1.  1.  1.  1.]\n",
        " [ 1.  1.  1.  1.  1.]\n",
        " [ 1.  1.  1.  1.  1.]]\n"
       ]
      }
     ],
     "prompt_number": 3
    },
    {
     "cell_type": "code",
     "collapsed": false,
     "input": [],
     "language": "python",
     "metadata": {},
     "outputs": []
    }
   ],
   "metadata": {}
  }
 ]
}