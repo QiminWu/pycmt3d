{
 "metadata": {
  "name": "",
  "signature": "sha256:260969042df73708eef1f44f6a185e4e26d6f0c7166755f0355021e03171969c"
 },
 "nbformat": 3,
 "nbformat_minor": 0,
 "worksheets": [
  {
   "cells": [
    {
     "cell_type": "code",
     "collapsed": false,
     "input": [
      "from cmt3d import Cmt3D\n",
      "from source import CMTSource\n",
      "from config import Config\n",
      "\n",
      "cmtfile = \"../../testdata/CMT/010104K\"\n",
      "cmtsource = CMTSource.from_CMTSOLUTION_file(cmtfile)\n",
      "\n",
      "flexwinfile = \"../../testdata/cmt_input/010104K_27_60\"\n",
      "config = Config(6, dlocation=0.03, dmoment=2.0e23, ddepth=3.0)\n",
      "testcmt = Cmt3D(cmtsource, flexwinfile, config)\n",
      "\n",
      "testcmt.load_winfile()\n",
      "testcmt.setup_weight()\n",
      "testcmt.setup_matrix()\n",
      "#print testcmt.A\n",
      "#print testcmt.b\n",
      "testcmt.invert_cmt(testcmt.A, testcmt.b)"
     ],
     "language": "python",
     "metadata": {},
     "outputs": [
      {
       "output_type": "stream",
       "stream": "stderr",
       "text": [
        "pycmt3d - INFO: None weighting function specified..assign to default\n"
       ]
      },
      {
       "output_type": "stream",
       "stream": "stderr",
       "text": [
        "pycmt3d - INFO: Import window file\n"
       ]
      },
      {
       "output_type": "stream",
       "stream": "stderr",
       "text": [
        "pycmt3d - DEBUG: Import data...ABKT.II.00.BHZ.sac\n"
       ]
      },
      {
       "output_type": "stream",
       "stream": "stderr",
       "text": [
        "pycmt3d - INFO: Start weighting...\n"
       ]
      },
      {
       "output_type": "stream",
       "stream": "stderr",
       "text": [
        "pycmt3d - DEBUG: Azimuth bin: [2.0, 0.0, 0.0, 0.0, 0.0, 0.0, 0.0, 0.0, 0.0, 0.0]\n"
       ]
      },
      {
       "output_type": "stream",
       "stream": "stderr",
       "text": [
        "pycmt3d - INFO: ABKT.II.BHZ, num_win, dist, naz: 13513.362524, 2\n"
       ]
      },
      {
       "output_type": "stream",
       "stream": "stderr",
       "text": [
        "pycmt3d - DEBUG: Global Max Weight: 42.038657\n"
       ]
      },
      {
       "output_type": "stream",
       "stream": "stderr",
       "text": [
        "pycmt3d - DEBUG: II.ABKT, weight: [42.0386568829, 15.7578204075]\n"
       ]
      },
      {
       "output_type": "stream",
       "stream": "stderr",
       "text": [
        "pycmt3d - DEBUG: Updated, weight: [1.0, 0.374841195602]\n"
       ]
      },
      {
       "output_type": "stream",
       "stream": "stderr",
       "text": [
        "pycmt3d - INFO: Inversion Matrix A is as follows:\n"
       ]
      },
      {
       "output_type": "stream",
       "stream": "stderr",
       "text": [
        "pycmt3d - INFO: \n",
        "[  2.89114171e-19  -1.93167452e-20   2.84254974e-21   3.92849595e-19\n",
        "  -1.35482369e-19   5.01391823e-21]\n",
        "[ -1.93167452e-20   9.12283158e-21   5.59645943e-22  -9.97303539e-21\n",
        "   3.20230257e-21  -5.23819236e-21]\n",
        "[  2.84254974e-21   5.59645943e-22   1.07812908e-22   5.52440901e-21\n",
        "  -1.92354319e-21  -4.41170489e-22]\n",
        "[  3.92849595e-19  -9.97303539e-21   5.52440901e-21   6.47509557e-19\n",
        "  -2.24463095e-19  -3.35015829e-21]\n",
        "[ -1.35482369e-19   3.20230257e-21  -1.92354319e-21  -2.24463095e-19\n",
        "   7.78714332e-20   1.31135497e-21]\n",
        "[  5.01391823e-21  -5.23819236e-21  -4.41170489e-22  -3.35015829e-21\n",
        "   1.31135497e-21   3.25587162e-21]\n"
       ]
      },
      {
       "output_type": "stream",
       "stream": "stderr",
       "text": [
        "pycmt3d - INFO: RHS vector b is as follows:\n"
       ]
      },
      {
       "output_type": "stream",
       "stream": "stderr",
       "text": [
        "pycmt3d - INFO: [-3.11513013798e-16, 4.58022420467e-18, -4.62050507543e-18, -5.0415444397e-16, 1.74683259369e-16, 4.40864716842e-18]\n"
       ]
      },
      {
       "output_type": "stream",
       "stream": "stderr",
       "text": [
        "pycmt3d - INFO: Linear Inversion\n"
       ]
      },
      {
       "output_type": "stream",
       "stream": "stderr",
       "text": [
        "pycmt3d - DEBUG: cmt_par: [6.32e+24, -5.2e+24, -1.12e+24, 1.16e+25, -5.86e+24, 3.03e+24]\n"
       ]
      },
      {
       "output_type": "stream",
       "stream": "stderr",
       "text": [
        "pycmt3d - DEBUG: Scaled old_par: [6.32e+24, -5.2e+24, -1.12e+24, 1.16e+25, -5.86e+24, 3.03e+24]\n"
       ]
      },
      {
       "output_type": "stream",
       "stream": "stderr",
       "text": [
        "pycmt3d - DEBUG: dm: [-424.816782441, -2723.33157188, 3148.14835433, -1056.995153, -1310.68817779, -2506.28565308, -1.58428450745e-20]\n"
       ]
      },
      {
       "output_type": "stream",
       "stream": "stdout",
       "text": [
        "[ -3.11513014e-16   4.58022420e-18  -4.62050508e-18  -5.04154444e-16\n",
        "   1.74683259e-16   4.40864717e-18  -0.00000000e+00]\n",
        "[ -3.11513014e-16   4.58022420e-18  -4.62050508e-18  -5.04154444e-16\n",
        "   1.74683259e-16   4.40864717e-18   0.00000000e+00]\n"
       ]
      },
      {
       "metadata": {},
       "output_type": "pyout",
       "prompt_number": 1,
       "text": [
        "array([  6.32000000e+24,  -5.20000000e+24,  -1.12000000e+24,\n",
        "         1.16000000e+25,  -5.86000000e+24,   3.03000000e+24])"
       ]
      }
     ],
     "prompt_number": 1
    },
    {
     "cell_type": "code",
     "collapsed": false,
     "input": [
      "testcmt.window[0].win_time"
     ],
     "language": "python",
     "metadata": {},
     "outputs": [
      {
       "ename": "NameError",
       "evalue": "name 'testcmt' is not defined",
       "output_type": "pyerr",
       "traceback": [
        "\u001b[1;31m---------------------------------------------------------------------------\u001b[0m\n\u001b[1;31mNameError\u001b[0m                                 Traceback (most recent call last)",
        "\u001b[1;32m<ipython-input-1-12cbb87b49df>\u001b[0m in \u001b[0;36m<module>\u001b[1;34m()\u001b[0m\n\u001b[1;32m----> 1\u001b[1;33m \u001b[0mtestcmt\u001b[0m\u001b[1;33m.\u001b[0m\u001b[0mwindow\u001b[0m\u001b[1;33m[\u001b[0m\u001b[1;36m0\u001b[0m\u001b[1;33m]\u001b[0m\u001b[1;33m.\u001b[0m\u001b[0mwin_time\u001b[0m\u001b[1;33m\u001b[0m\u001b[0m\n\u001b[0m",
        "\u001b[1;31mNameError\u001b[0m: name 'testcmt' is not defined"
       ]
      }
     ],
     "prompt_number": 1
    },
    {
     "cell_type": "code",
     "collapsed": false,
     "input": [
      "print testcmt.window[0].datalist"
     ],
     "language": "python",
     "metadata": {},
     "outputs": [
      {
       "output_type": "stream",
       "stream": "stdout",
       "text": [
        "{'Mrt': <obspy.core.trace.Trace object at 0x7f679bc9a790>, 'Mtp': <obspy.core.trace.Trace object at 0x7f679bc40210>, 'Mrp': <obspy.core.trace.Trace object at 0x7f679bc400d0>, 'Mtt': <obspy.core.trace.Trace object at 0x7f679bc9a7d0>, 'Mrr': <obspy.core.trace.Trace object at 0x7f679bc9ab90>, 'Mpp': <obspy.core.trace.Trace object at 0x7f679bc9a850>, 'obsd': <obspy.core.trace.Trace object at 0x7f679bc9a8d0>, 'synt': <obspy.core.trace.Trace object at 0x7f679bc9a890>}\n"
       ]
      }
     ],
     "prompt_number": 6
    },
    {
     "cell_type": "code",
     "collapsed": false,
     "input": [],
     "language": "python",
     "metadata": {},
     "outputs": [
      {
       "ename": "TypeError",
       "evalue": "unsupported operand type(s) for /: 'NoneType' and 'float'",
       "output_type": "pyerr",
       "traceback": [
        "\u001b[1;31m---------------------------------------------------------------------------\u001b[0m\n\u001b[1;31mTypeError\u001b[0m                                 Traceback (most recent call last)",
        "\u001b[1;32m<ipython-input-7-cfc0ee7248be>\u001b[0m in \u001b[0;36m<module>\u001b[1;34m()\u001b[0m\n\u001b[1;32m----> 1\u001b[1;33m \u001b[0mtestcmt\u001b[0m\u001b[1;33m.\u001b[0m\u001b[0msetup_weight\u001b[0m\u001b[1;33m(\u001b[0m\u001b[1;33m)\u001b[0m\u001b[1;33m\u001b[0m\u001b[0m\n\u001b[0m",
        "\u001b[1;32m/u/lei/Research/pycmt3d/src/pycmt3d/cmt3d.py\u001b[0m in \u001b[0;36msetup_weight\u001b[1;34m(self)\u001b[0m\n\u001b[0;32m     98\u001b[0m             \u001b[1;31m# first calculate azimuth and distance for each data pair\u001b[0m\u001b[1;33m\u001b[0m\u001b[1;33m\u001b[0m\u001b[0m\n\u001b[0;32m     99\u001b[0m             \u001b[0mself\u001b[0m\u001b[1;33m.\u001b[0m\u001b[0mprepare_for_weighting\u001b[0m\u001b[1;33m(\u001b[0m\u001b[1;33m)\u001b[0m\u001b[1;33m\u001b[0m\u001b[0m\n\u001b[1;32m--> 100\u001b[1;33m             \u001b[1;31m# then calculate azimuth weighting\u001b[0m\u001b[1;33m\u001b[0m\u001b[1;33m\u001b[0m\u001b[0m\n\u001b[0m\u001b[0;32m    101\u001b[0m             \u001b[0mnaz_list\u001b[0m \u001b[1;33m=\u001b[0m \u001b[0mself\u001b[0m\u001b[1;33m.\u001b[0m\u001b[0mcalculate_azimuth_bin\u001b[0m\u001b[1;33m(\u001b[0m\u001b[1;33m)\u001b[0m\u001b[1;33m\u001b[0m\u001b[0m\n\u001b[0;32m    102\u001b[0m             \u001b[1;32mfor\u001b[0m \u001b[0midx\u001b[0m\u001b[1;33m,\u001b[0m \u001b[0mwindow\u001b[0m \u001b[1;32min\u001b[0m \u001b[0menumerate\u001b[0m\u001b[1;33m(\u001b[0m\u001b[0mself\u001b[0m\u001b[1;33m.\u001b[0m\u001b[0mwindow\u001b[0m\u001b[1;33m)\u001b[0m\u001b[1;33m:\u001b[0m\u001b[1;33m\u001b[0m\u001b[0m\n",
        "\u001b[1;32m/u/lei/Research/pycmt3d/src/pycmt3d/cmt3d.py\u001b[0m in \u001b[0;36mcalculate_azimuth_bin\u001b[1;34m(self)\u001b[0m\n\u001b[0;32m    141\u001b[0m     \u001b[1;32mdef\u001b[0m \u001b[0mcalculate_azimuth_bin\u001b[0m\u001b[1;33m(\u001b[0m\u001b[0mself\u001b[0m\u001b[1;33m)\u001b[0m\u001b[1;33m:\u001b[0m\u001b[1;33m\u001b[0m\u001b[0m\n\u001b[0;32m    142\u001b[0m         \u001b[0mnaz_list\u001b[0m \u001b[1;33m=\u001b[0m \u001b[0mnp\u001b[0m\u001b[1;33m.\u001b[0m\u001b[0mzeros\u001b[0m\u001b[1;33m(\u001b[0m\u001b[0mconst\u001b[0m\u001b[1;33m.\u001b[0m\u001b[0mNREGIONS\u001b[0m\u001b[1;33m)\u001b[0m\u001b[1;33m\u001b[0m\u001b[0m\n\u001b[1;32m--> 143\u001b[1;33m         \u001b[1;32mfor\u001b[0m \u001b[0mwindow\u001b[0m \u001b[1;32min\u001b[0m \u001b[0mself\u001b[0m\u001b[1;33m.\u001b[0m\u001b[0mwindow\u001b[0m\u001b[1;33m:\u001b[0m\u001b[1;33m\u001b[0m\u001b[0m\n\u001b[0m\u001b[0;32m    144\u001b[0m             \u001b[0mbin_idx\u001b[0m \u001b[1;33m=\u001b[0m \u001b[0mself\u001b[0m\u001b[1;33m.\u001b[0m\u001b[0mget_azimuth_bin_number\u001b[0m\u001b[1;33m(\u001b[0m\u001b[0mwindow\u001b[0m\u001b[1;33m.\u001b[0m\u001b[0mazimuth\u001b[0m\u001b[1;33m)\u001b[0m\u001b[1;33m\u001b[0m\u001b[0m\n\u001b[0;32m    145\u001b[0m             \u001b[0mnaz_list\u001b[0m\u001b[1;33m[\u001b[0m\u001b[0mbin_idx\u001b[0m\u001b[1;33m]\u001b[0m \u001b[1;33m+=\u001b[0m \u001b[0mwindow\u001b[0m\u001b[1;33m.\u001b[0m\u001b[0mnum_wins\u001b[0m\u001b[1;33m\u001b[0m\u001b[0m\n",
        "\u001b[1;32m/u/lei/Research/pycmt3d/src/pycmt3d/cmt3d.py\u001b[0m in \u001b[0;36mget_azimuth_bin_number\u001b[1;34m(azimuth)\u001b[0m\n\u001b[0;32m    130\u001b[0m         \u001b[1;31m# the azimth ranges from [0,360]\u001b[0m\u001b[1;33m\u001b[0m\u001b[1;33m\u001b[0m\u001b[0m\n\u001b[0;32m    131\u001b[0m         \u001b[1;31m# so a little modification here\u001b[0m\u001b[1;33m\u001b[0m\u001b[1;33m\u001b[0m\u001b[0m\n\u001b[1;32m--> 132\u001b[1;33m         \u001b[0mdaz\u001b[0m \u001b[1;33m=\u001b[0m \u001b[1;36m360.0\u001b[0m \u001b[1;33m/\u001b[0m \u001b[0mconst\u001b[0m\u001b[1;33m.\u001b[0m\u001b[0mNREGIONS\u001b[0m\u001b[1;33m\u001b[0m\u001b[0m\n\u001b[0m\u001b[0;32m    133\u001b[0m         \u001b[0mk\u001b[0m \u001b[1;33m=\u001b[0m \u001b[0mmath\u001b[0m\u001b[1;33m.\u001b[0m\u001b[0mfloor\u001b[0m\u001b[1;33m(\u001b[0m\u001b[0mazimuth\u001b[0m \u001b[1;33m/\u001b[0m \u001b[0mdaz\u001b[0m\u001b[1;33m)\u001b[0m\u001b[1;33m\u001b[0m\u001b[0m\n\u001b[0;32m    134\u001b[0m         \u001b[1;32mif\u001b[0m \u001b[1;33m(\u001b[0m \u001b[0mk\u001b[0m\u001b[1;33m<\u001b[0m\u001b[1;36m0\u001b[0m \u001b[1;32mor\u001b[0m \u001b[0mk\u001b[0m\u001b[1;33m>\u001b[0m\u001b[0mconst\u001b[0m\u001b[1;33m.\u001b[0m\u001b[0mNREGIONS\u001b[0m\u001b[1;33m)\u001b[0m\u001b[1;33m:\u001b[0m\u001b[1;33m\u001b[0m\u001b[0m\n",
        "\u001b[1;31mTypeError\u001b[0m: unsupported operand type(s) for /: 'NoneType' and 'float'"
       ]
      }
     ],
     "prompt_number": 7
    },
    {
     "cell_type": "code",
     "collapsed": false,
     "input": [
      "import numpy as np\n",
      "data = np.ones(7)\n",
      "data /= 7\n",
      "print data"
     ],
     "language": "python",
     "metadata": {},
     "outputs": [
      {
       "output_type": "stream",
       "stream": "stdout",
       "text": [
        "[ 0.14285714  0.14285714  0.14285714  0.14285714  0.14285714  0.14285714\n",
        "  0.14285714]\n"
       ]
      }
     ],
     "prompt_number": 4
    },
    {
     "cell_type": "code",
     "collapsed": false,
     "input": [
      "print data"
     ],
     "language": "python",
     "metadata": {},
     "outputs": [
      {
       "output_type": "stream",
       "stream": "stdout",
       "text": [
        "[ 1.  1.  1.  1.  1.  1.  1.]\n"
       ]
      }
     ],
     "prompt_number": 3
    },
    {
     "cell_type": "code",
     "collapsed": false,
     "input": [
      "import numpy as np\n",
      "b = 0\n",
      "A = np.zeros([3,3])\n",
      "def test_func(A, b):\n",
      "    A[1,1] = 1.0\n",
      "    b = 1\n",
      "print A\n",
      "print b\n",
      "test_func(A, b)\n",
      "print A\n",
      "print b\n",
      "AA=A\n",
      "AA[0,0]=1\n",
      "print AA\n",
      "print A"
     ],
     "language": "python",
     "metadata": {},
     "outputs": [
      {
       "output_type": "stream",
       "stream": "stdout",
       "text": [
        "[[ 0.  0.  0.]\n",
        " [ 0.  0.  0.]\n",
        " [ 0.  0.  0.]]\n",
        "0\n",
        "[[ 0.  0.  0.]\n",
        " [ 0.  1.  0.]\n",
        " [ 0.  0.  0.]]\n",
        "0\n",
        "[[ 1.  0.  0.]\n",
        " [ 0.  1.  0.]\n",
        " [ 0.  0.  0.]]\n",
        "[[ 1.  0.  0.]\n",
        " [ 0.  1.  0.]\n",
        " [ 0.  0.  0.]]\n"
       ]
      }
     ],
     "prompt_number": 3
    },
    {
     "cell_type": "code",
     "collapsed": false,
     "input": [
      "AA = np.zeros([2,2])"
     ],
     "language": "python",
     "metadata": {},
     "outputs": [],
     "prompt_number": 4
    },
    {
     "cell_type": "code",
     "collapsed": false,
     "input": [
      "AA[0:2,0:2] = A[0:2, 0:2]"
     ],
     "language": "python",
     "metadata": {},
     "outputs": [],
     "prompt_number": 5
    },
    {
     "cell_type": "code",
     "collapsed": false,
     "input": [
      "print AA"
     ],
     "language": "python",
     "metadata": {},
     "outputs": [
      {
       "output_type": "stream",
       "stream": "stdout",
       "text": [
        "[[ 1.  0.]\n",
        " [ 0.  1.]]\n"
       ]
      }
     ],
     "prompt_number": 6
    },
    {
     "cell_type": "code",
     "collapsed": false,
     "input": [
      "AA[0,0] = 2\n",
      "print AA\n",
      "print A"
     ],
     "language": "python",
     "metadata": {},
     "outputs": [
      {
       "output_type": "stream",
       "stream": "stdout",
       "text": [
        "[[ 2.  0.]\n",
        " [ 0.  1.]]\n",
        "[[ 1.  0.  0.]\n",
        " [ 0.  1.  0.]\n",
        " [ 0.  0.  0.]]\n"
       ]
      }
     ],
     "prompt_number": 7
    },
    {
     "cell_type": "code",
     "collapsed": false,
     "input": [
      "AA.flags['C_CONTIGUOUS']"
     ],
     "language": "python",
     "metadata": {},
     "outputs": [
      {
       "metadata": {},
       "output_type": "pyout",
       "prompt_number": 9,
       "text": [
        "True"
       ]
      }
     ],
     "prompt_number": 9
    },
    {
     "cell_type": "code",
     "collapsed": false,
     "input": [
      "import numpy as np\n",
      "aa = np.ones([5,5])\n",
      "print(\"[%s]\" %(', \\n'.join(map(str, aa))) )"
     ],
     "language": "python",
     "metadata": {},
     "outputs": [
      {
       "output_type": "stream",
       "stream": "stdout",
       "text": [
        "[[ 1.  1.  1.  1.  1.], \n",
        "[ 1.  1.  1.  1.  1.], \n",
        "[ 1.  1.  1.  1.  1.], \n",
        "[ 1.  1.  1.  1.  1.], \n",
        "[ 1.  1.  1.  1.  1.]]\n"
       ]
      }
     ],
     "prompt_number": 6
    },
    {
     "cell_type": "code",
     "collapsed": false,
     "input": [
      "print aa"
     ],
     "language": "python",
     "metadata": {},
     "outputs": [
      {
       "output_type": "stream",
       "stream": "stdout",
       "text": [
        "[[ 1.  1.  1.  1.  1.]\n",
        " [ 1.  1.  1.  1.  1.]\n",
        " [ 1.  1.  1.  1.  1.]\n",
        " [ 1.  1.  1.  1.  1.]\n",
        " [ 1.  1.  1.  1.  1.]]\n"
       ]
      }
     ],
     "prompt_number": 3
    },
    {
     "cell_type": "code",
     "collapsed": false,
     "input": [],
     "language": "python",
     "metadata": {},
     "outputs": []
    }
   ],
   "metadata": {}
  }
 ]
}